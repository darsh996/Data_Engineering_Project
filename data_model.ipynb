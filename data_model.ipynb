{
 "cells": [
  {
   "cell_type": "code",
   "execution_count": 1,
   "metadata": {},
   "outputs": [],
   "source": [
    "import psycopg2"
   ]
  },
  {
   "cell_type": "code",
   "execution_count": 10,
   "metadata": {},
   "outputs": [
    {
     "name": "stdout",
     "output_type": "stream",
     "text": [
      "Connection successful to Postgres Database\n"
     ]
    }
   ],
   "source": [
    "#Create Connection to postgres database\n",
    "try:\n",
    "    connection = psycopg2.connect(\"host = 127.0.0.1 dbname = postgres user = postgres password = Darsh@9696\")\n",
    "    print(\"Connection successful to Postgres Database\")\n",
    "except psycopg2.Error as e:\n",
    "    print(\"Error : Could not make connection to Postgres Database\")\n",
    "    print(e)"
   ]
  },
  {
   "cell_type": "code",
   "execution_count": 11,
   "metadata": {},
   "outputs": [
    {
     "name": "stdout",
     "output_type": "stream",
     "text": [
      "Cursor created successfully\n"
     ]
    }
   ],
   "source": [
    "#use connection to get cursor to execute queries on our database\n",
    "try :\n",
    "    cur = connection.cursor()\n",
    "    print(\"Cursor created successfully\")\n",
    "except psycopg2.Error as e:\n",
    "    print(\"Error : Could not get curser to the database\")\n",
    "    print(e)"
   ]
  },
  {
   "cell_type": "code",
   "execution_count": 12,
   "metadata": {},
   "outputs": [],
   "source": [
    "#set auto commit \"ON\"\n",
    "connection.set_session(autocommit=True)"
   ]
  },
  {
   "cell_type": "code",
   "execution_count": 13,
   "metadata": {},
   "outputs": [],
   "source": [
    "#Create Database\n",
    "try:\n",
    "    cur.execute(\"create database myfirstdb\")\n",
    "except psycopg2.Error as e:\n",
    "    print(e)"
   ]
  },
  {
   "cell_type": "code",
   "execution_count": 16,
   "metadata": {},
   "outputs": [
    {
     "name": "stdout",
     "output_type": "stream",
     "text": [
      "Connection successful to myfirstdb Database\n",
      "Cursor created successfully\n"
     ]
    }
   ],
   "source": [
    "#create connection with fisrtdb we created\n",
    "\n",
    "#close connection\n",
    "try:\n",
    "    connection.close()\n",
    "except psycopg2.Error as e:\n",
    "    print(e)\n",
    "\n",
    "#connecting with new database firstdb\n",
    "try:\n",
    "    connection = psycopg2.connect(\"host = 127.0.0.1 dbname =myfirstdb user = postgres password = Darsh@9696\")\n",
    "    print(\"Connection successful to myfirstdb Database\")\n",
    "except psycopg2.Error as e:\n",
    "    print(\"Error : Could not make connection to Postgres Database\")\n",
    "    print(e)\n",
    "\n",
    "#creating cursor\n",
    "try :\n",
    "    cur = connection.cursor()\n",
    "    print(\"Cursor created successfully\")\n",
    "except psycopg2.Error as e:\n",
    "    print(\"Error : Could not get curser to the database\")\n",
    "    print(e)\n",
    "\n",
    "#set auto commit true\n",
    "connection.set_session(autocommit=True)"
   ]
  },
  {
   "cell_type": "markdown",
   "metadata": {},
   "source": [
    "Create Table for students which includes below columns\n",
    "##### student_id\n",
    "##### name\n",
    "##### age\n",
    "##### gender\n",
    "##### subject\n",
    "##### marks"
   ]
  },
  {
   "cell_type": "code",
   "execution_count": 21,
   "metadata": {},
   "outputs": [],
   "source": [
    "try:\n",
    "    cur.execute(\"CREATE TABLE IF NOT EXISTS students (student_id int,name varchar,age int,gender varchar,subject varchar,marks int);\")\n",
    "except psycopg2.Error as e:\n",
    "    print(\"Error:Issue creating table\")\n",
    "    print(e)"
   ]
  },
  {
   "cell_type": "code",
   "execution_count": 26,
   "metadata": {},
   "outputs": [],
   "source": [
    "# insert data in table\n",
    "# first row 1.\"Raj\",23,\"Male\",\"Python\",85\n",
    "# second row 2.\"Priya\",22,\"Female\",\"Python\",86\n",
    "try:\n",
    "    cur.execute(\"INSERT INTO students(student_id,name,age,gender,subject,marks) \\\n",
    "                VALUES (%s,%s,%s,%s,%s,%s)\", \\\n",
    "                (1,\"Raj\",23,\"Male\",\"Python\",85))\n",
    "except psycopg2.Error as e:\n",
    "    print(\"Error: Inserting Rows\")\n",
    "    print(e)\n",
    "\n",
    "try:\n",
    "    cur.execute(\"INSERT INTO students(student_id,name,age,gender,subject,marks) \\\n",
    "                VALUES (%s,%s,%s,%s,%s,%s)\", \\\n",
    "                (2,\"Priya\",22,\"Female\",\"Python\",86))\n",
    "except psycopg2.Error as e:\n",
    "    print(\"Error: Inserting Rows\")\n",
    "    print(e)\n",
    "    "
   ]
  },
  {
   "cell_type": "code",
   "execution_count": 33,
   "metadata": {},
   "outputs": [
    {
     "name": "stdout",
     "output_type": "stream",
     "text": [
      "(1, 'Raj', 23, 'Male', 'Python', 85)\n",
      "(1, 'Raj', 23, 'Male', 'Python', 85)\n",
      "(1, 'Raj', 23, 'Male', 'Python', 85)\n",
      "(2, 'Priya', 22, 'Female', 'Python', 86)\n"
     ]
    }
   ],
   "source": [
    "#validate data inserted into the table\n",
    "try:\n",
    "    cur.execute(\"SELECT * FROM students;\")\n",
    "except psycopg2.Error as e:\n",
    "    print(\"Error :select *\")\n",
    "    print(e)\n",
    "\n",
    "row = cur.fetchone()\n",
    "while row:\n",
    "    print(row)\n",
    "    row = cur.fetchone()"
   ]
  },
  {
   "cell_type": "code",
   "execution_count": 34,
   "metadata": {},
   "outputs": [],
   "source": [
    "#closing connection\n",
    "cur.close\n",
    "connection.close()"
   ]
  }
 ],
 "metadata": {
  "kernelspec": {
   "display_name": "Python 3 (ipykernel)",
   "language": "python",
   "name": "python3"
  },
  "language_info": {
   "codemirror_mode": {
    "name": "ipython",
    "version": 3
   },
   "file_extension": ".py",
   "mimetype": "text/x-python",
   "name": "python",
   "nbconvert_exporter": "python",
   "pygments_lexer": "ipython3",
   "version": "3.9.13"
  }
 },
 "nbformat": 4,
 "nbformat_minor": 2
}
